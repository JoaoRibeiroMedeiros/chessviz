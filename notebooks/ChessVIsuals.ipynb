{
 "cells": [
  {
   "cell_type": "code",
   "execution_count": 1,
   "metadata": {},
   "outputs": [
    {
     "data": {
      "image/png": "[encoded data removed]",
      "text/plain": [
       "<Figure size 640x480 with 1 Axes>"
      ]
     },
     "metadata": {},
     "output_type": "display_data"
    }
   ],
   "source": [
    "import matplotlib.pyplot as plt\n",
    "\n",
    "def draw_chessboard():\n",
    "    # Create a chessboard using matplotlib\n",
    "    board = plt.figure()\n",
    "    ax = board.add_subplot(111, aspect='equal')\n",
    "    ax.set_xlim(0, 8)\n",
    "    ax.set_ylim(0, 8)\n",
    "\n",
    "    # Color the squares of the chessboard\n",
    "    color1 = '#F0D9B5'\n",
    "    color2 = '#B58863'\n",
    "    for i in range(8):\n",
    "        for j in range(8):\n",
    "            if (i + j) % 2 == 0:\n",
    "                square_color = color1\n",
    "            else:\n",
    "                square_color = color2\n",
    "            ax.add_patch(plt.Rectangle((i, j), 1, 1, color=square_color))\n",
    "\n",
    "    return board, ax\n",
    "\n",
    "def place_piece(board, ax, piece_type, position):\n",
    "    # Define the position of the chess piece\n",
    "    x, y = position\n",
    "\n",
    "    # Plot the chess piece on the board\n",
    "    if piece_type == 'king':\n",
    "        ax.text(x + 0.5, y + 0.5, u'\\u265A', fontsize=40, ha='center', va='center')\n",
    "    elif piece_type == 'queen':\n",
    "        ax.text(x + 0.5, y + 0.5, u'\\u265B', fontsize=40, ha='center', va='center')\n",
    "    elif piece_type == 'rook':\n",
    "        ax.text(x + 0.5, y + 0.5, u'\\u265C', fontsize=40, ha='center', va='center')\n",
    "    elif piece_type == 'bishop':\n",
    "        ax.text(x + 0.5, y + 0.5, u'\\u265D', fontsize=40, ha='center', va='center')\n",
    "    elif piece_type == 'knight':\n",
    "        ax.text(x + 0.5, y + 0.5, u'\\u265E', fontsize=40, ha='center', va='center')\n",
    "    elif piece_type == 'pawn':\n",
    "        ax.text(x + 0.5, y + 0.5, u'\\u265F', fontsize=40, ha='center', va='center')\n",
    "\n",
    "    # Show the updated chessboard\n",
    "    plt.show()\n",
    "\n",
    "# Example usage\n",
    "board, ax = draw_chessboard()\n",
    "place_piece(board, ax, 'rook', (0, 0))"
   ]
  },
  {
   "cell_type": "code",
   "execution_count": null,
   "metadata": {},
   "outputs": [],
   "source": []
  }
 ],
 "metadata": {
  "kernelspec": {
   "display_name": "Python 3",
   "language": "python",
   "name": "python3"
  },
  "language_info": {
   "codemirror_mode": {
    "name": "ipython",
    "version": 3
   },
   "file_extension": ".py",
   "mimetype": "text/x-python",
   "name": "python",
   "nbconvert_exporter": "python",
   "pygments_lexer": "ipython3",
   "version": "3.9.7"
  },
  "orig_nbformat": 4
 },
 "nbformat": 4,
 "nbformat_minor": 2
}
