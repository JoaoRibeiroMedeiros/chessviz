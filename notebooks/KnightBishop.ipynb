{
  "nbformat": 4,
  "nbformat_minor": 0,
  "metadata": {
    "colab": {
      "provenance": []
    },
    "kernelspec": {
      "name": "python3",
      "display_name": "Python 3"
    },
    "language_info": {
      "name": "python"
    }
  },
  "cells": [
    {
      "cell_type": "code",
      "source": [
        "!pip install celluloid\n",
        "# !pip install black"
      ],
      "metadata": {
        "colab": {
          "base_uri": "https://localhost:8080/"
        },
        "id": "6MMB_iwu0eHC",
        "outputId": "90413e66-15f4-4ac7-b525-3560f068425b"
      },
      "execution_count": null,
      "outputs": [
        {
          "output_type": "stream",
          "name": "stdout",
          "text": [
            "Looking in indexes: https://pypi.org/simple, https://us-python.pkg.dev/colab-wheels/public/simple/\n",
            "Requirement already satisfied: celluloid in /usr/local/lib/python3.8/dist-packages (0.2.0)\n",
            "Requirement already satisfied: matplotlib in /usr/local/lib/python3.8/dist-packages (from celluloid) (3.2.2)\n",
            "Requirement already satisfied: pyparsing!=2.0.4,!=2.1.2,!=2.1.6,>=2.0.1 in /usr/local/lib/python3.8/dist-packages (from matplotlib->celluloid) (3.0.9)\n",
            "Requirement already satisfied: kiwisolver>=1.0.1 in /usr/local/lib/python3.8/dist-packages (from matplotlib->celluloid) (1.4.4)\n",
            "Requirement already satisfied: numpy>=1.11 in /usr/local/lib/python3.8/dist-packages (from matplotlib->celluloid) (1.21.6)\n",
            "Requirement already satisfied: python-dateutil>=2.1 in /usr/local/lib/python3.8/dist-packages (from matplotlib->celluloid) (2.8.2)\n",
            "Requirement already satisfied: cycler>=0.10 in /usr/local/lib/python3.8/dist-packages (from matplotlib->celluloid) (0.11.0)\n",
            "Requirement already satisfied: six>=1.5 in /usr/local/lib/python3.8/dist-packages (from python-dateutil>=2.1->matplotlib->celluloid) (1.15.0)\n"
          ]
        }
      ]
    },
    {
      "cell_type": "code",
      "execution_count": null,
      "metadata": {
        "id": "SbOhWYzUqeNx"
      },
      "outputs": [],
      "source": [
        "import pandas as pd\n",
        "import numpy as np\n",
        "import matplotlib.pyplot as plt\n",
        "import operator\n",
        "from celluloid import Camera\n",
        "import random"
      ]
    },
    {
      "cell_type": "code",
      "source": [
        "def insert_piece(tabuleiro, i, j, value = 1):\n",
        "  \"\"\"\n",
        "  \"\"\"\n",
        "  _tabuleiro = tabuleiro.copy()\n",
        "  _tabuleiro[i][j] = value\n",
        "  return _tabuleiro\n",
        "\n",
        "def insert_random_piece(tabuleiro, value = 1):\n",
        "  return insert_piece(tabuleiro,random.randint(0,7),random.randint(0,7), value = 1)\n",
        "\n",
        "def get_pieces_positions(tabuleiro):\n",
        "  x, y = np.where(tabuleiro>=1)\n",
        "  list_of_positions = [(i,j) for i,j in zip(x,y)]\n",
        "  return list_of_positions\n",
        "\n",
        "def knight_moves(chessboard):\n",
        "  \"\"\"\n",
        "  knight moves on continuum topology\n",
        "  \"\"\"\n",
        "  possible_moves = {0: (2,1), 1: (1,2),2: (-2,1), 3: (-1,2), 4: (2,-1), 5: (1,-2),6: (-2,-1), 7: (-1,-2)}\n",
        "  list_of_positions = get_pieces_positions(chessboard)\n",
        "  updated_chessboard = np.zeros((8,8))\n",
        "  for piece_position in list_of_positions:\n",
        "    current_move = possible_moves[np.random.choice(range(8))]\n",
        "    new_position = tuple(map(operator.add, current_move, piece_position))\n",
        "    # continuum and reflections are implied in mod 8 calculation for new position\n",
        "    new_position_x, new_position_y  = tuple(i%8 for i in new_position)\n",
        "    updated_chessboard = insert_piece(updated_chessboard,new_position_x,new_position_y, value = 2)\n",
        "  return (updated_chessboard + chessboard)/2\n",
        "\n",
        "def knight_moves_limited(chessboard):\n",
        "  \"\"\"\n",
        "  knight moves on limited chessboard topology\n",
        "  \"\"\"\n",
        "  possible_moves = {0: (2,1), 1: (1,2),2: (-2,1), 3: (-1,2), 4: (2,-1), 5: (1,-2),6: (-2,-1), 7: (-1,-2)}\n",
        "  list_of_positions = get_pieces_positions(chessboard)\n",
        "  updated_chessboard = np.zeros((8,8))\n",
        "  for piece_position in list_of_positions:\n",
        "    rerrun = 1\n",
        "    while rerrun == 1:\n",
        "      current_move = possible_moves[np.random.choice(range(8))]\n",
        "      new_position_x, new_position_y = tuple(map(operator.add, current_move, piece_position))\n",
        "      if new_position_x < 8 and new_position_y < 8 and new_position_x > -1 and new_position_y > -1:\n",
        "        rerrun  = 0\n",
        "      else:\n",
        "        rerrun = 1\n",
        "    updated_chessboard = insert_piece(updated_chessboard,new_position_x,new_position_y, value = 2)\n",
        "  return (updated_chessboard + chessboard)/2\n",
        "\n",
        "def bishop_moves(chessboard):\n",
        "  \"\"\"\n",
        "  Bishop moves on continuum topology\n",
        "  \"\"\"\n",
        "  possible_moves = {0: (1,1), 1: (1,-1), 2: (-1,1), 3: (-1,-1)}\n",
        "  list_of_positions = get_pieces_positions(chessboard)\n",
        "  updated_chessboard = np.zeros((8,8))\n",
        "  for piece_position in list_of_positions:\n",
        "    step_size = random.randint(0,8)\n",
        "    current_move = (step_size*i for i in possible_moves[np.random.choice(range(4))])\n",
        "    new_position = tuple(map(operator.add, current_move, piece_position))\n",
        "    # continuum and reflections are implied in mod 8 calculation for new position\n",
        "    new_position_x, new_position_y  = tuple(i%8 for i in new_position)\n",
        "    updated_chessboard = insert_piece(updated_chessboard,new_position_x,new_position_y, value = 2)\n",
        "  return (updated_chessboard + chessboard)/2\n",
        "\n",
        "def bishop_moves_limited(chessboard):\n",
        "  \"\"\"\n",
        "  bishop moves on limited chessboard topology\n",
        "  \"\"\"\n",
        "  possible_moves = {0: (1,1), 1: (1,-1), 2: (-1,1), 3: (-1,-1)}\n",
        "  list_of_positions = get_pieces_positions(chessboard)\n",
        "  updated_chessboard = np.zeros((8,8))\n",
        "  for piece_position in list_of_positions:\n",
        "    rerrun = 1\n",
        "    while rerrun == 1:\n",
        "      step_size = random.randint(0,8)\n",
        "      current_move = tuple((step_size*i for i in possible_moves[np.random.choice(range(4))]))\n",
        "      new_position_x, new_position_y = tuple(map(operator.add, current_move, piece_position))\n",
        "      if new_position_x < 8 and new_position_y < 8 and new_position_x > -1 and new_position_y > -1:\n",
        "        rerrun  = 0\n",
        "      else:\n",
        "        rerrun = 1\n",
        "    updated_chessboard = insert_piece(updated_chessboard,new_position_x,new_position_y, value = 2)\n",
        "  return (updated_chessboard + chessboard)/2"
      ],
      "metadata": {
        "id": "kU6L_UrhqzHk"
      },
      "execution_count": null,
      "outputs": []
    },
    {
      "cell_type": "code",
      "source": [
        "def get_first_plot(tabuleiro):\n",
        "  \"\"\"\n",
        "  \"\"\"\n",
        "  fig = plt.figure()\n",
        "  plt.imshow(tabuleiro)\n",
        "  ax = plt.gca()\n",
        "  ax.set_xticks(np.arange(-.5, 8, 1), minor=True)\n",
        "  ax.set_yticks(np.arange(-.5, 8, 1), minor=True)\n",
        "  ax.grid(which='minor', color='w', linestyle='-', linewidth=2)\n",
        "  return fig\n",
        "\n",
        "def get_next_plot(tabuleiro):\n",
        "  \"\"\"\n",
        "  \"\"\"\n",
        "  plt.imshow(tabuleiro)\n",
        "\n",
        "def get_knight_shadow_gif(tabuleiro):\n",
        "  \"\"\"\n",
        "  \"\"\"\n",
        "\n",
        "  fig = get_first_plot(tabuleiro)\n",
        "  camera = Camera(fig)\n",
        "\n",
        "  for i in range(300):\n",
        "    tabuleiro = knight_moves(tabuleiro)\n",
        "    get_next_plot( tabuleiro )\n",
        "    camera.snap()\n",
        "\n",
        "  animation = camera.animate()\n",
        "  return animation\n",
        "  # animation.save(\"KnightShadowMoves.gif\", writer = \"pillow\")\n",
        "\n",
        "def get_knight_limited_board_gif(tabuleiro):\n",
        "  \"\"\"\n",
        "  \"\"\"\n",
        "\n",
        "  fig = get_first_plot(tabuleiro)\n",
        "  camera = Camera(fig)\n",
        "\n",
        "  for i in range(300):\n",
        "    tabuleiro = knight_moves_limited(tabuleiro)\n",
        "    get_next_plot( tabuleiro )\n",
        "    camera.snap()\n",
        "\n",
        "  animation = camera.animate()\n",
        "  return animation\n",
        "\n",
        "def get_bishop_shadow_gif(tabuleiro):\n",
        "  \"\"\"\n",
        "  \"\"\"\n",
        "\n",
        "  fig = get_first_plot(tabuleiro)\n",
        "  camera = Camera(fig)\n",
        "\n",
        "  for i in range(300):\n",
        "    tabuleiro = bishop_moves(tabuleiro)\n",
        "    get_next_plot( tabuleiro )\n",
        "    camera.snap()\n",
        "\n",
        "  animation = camera.animate()\n",
        "  return animation\n",
        "  # animation.save(\"KnightShadowMoves.gif\", writer = \"pillow\")\n",
        "\n",
        "def get_bishop_limited_board_gif(tabuleiro):\n",
        "  \"\"\"\n",
        "  \"\"\"\n",
        "\n",
        "  fig = get_first_plot(tabuleiro)\n",
        "  camera = Camera(fig)\n",
        "\n",
        "  for i in range(300):\n",
        "    tabuleiro = bishop_moves_limited(tabuleiro)\n",
        "    get_next_plot( tabuleiro )\n",
        "    camera.snap()\n",
        "\n",
        "  animation = camera.animate()\n",
        "  return animation\n",
        "  # animation.save(\"BishopShadowMoves.gif\", writer = \"pillow\")"
      ],
      "metadata": {
        "id": "KYD9txuoq8xE"
      },
      "execution_count": null,
      "outputs": []
    },
    {
      "cell_type": "code",
      "source": [
        "tabuleiro = np.zeros((8,8))\n",
        "\n",
        "for i in range(1): tabuleiro = insert_random_piece(tabuleiro, value = 1)\n",
        "\n",
        "bishop_animation = get_bishop_limited_board_gif(tabuleiro)\n",
        "bishop_animation.save(\"BishopChessboardMoves.gif\", writer = \"pillow\")"
      ],
      "metadata": {
        "colab": {
          "base_uri": "https://localhost:8080/",
          "height": 265
        },
        "id": "61avj_IdzWCp",
        "outputId": "282d2541-b933-422a-85ad-60cc360dd2a4"
      },
      "execution_count": null,
      "outputs": [
        {
          "output_type": "display_data",
          "data": {
            "text/plain": [
              "<Figure size 432x288 with 1 Axes>"
            ],
            "image/png": "[encoded data removed]"
          },
          "metadata": {
            "needs_background": "light"
          }
        }
      ]
    },
    {
      "cell_type": "code",
      "source": [
        "\n",
        "knight_animation = get_knight_limited_board_gif(tabuleiro)\n",
        "knight_animation.save(\"knightChessboardMoves.gif\", writer = \"pillow\")"
      ],
      "metadata": {
        "colab": {
          "base_uri": "https://localhost:8080/",
          "height": 265
        },
        "id": "VHLMQH8iyhW3",
        "outputId": "d056277b-b25d-4394-c933-edbef17bed0b"
      },
      "execution_count": null,
      "outputs": [
        {
          "output_type": "display_data",
          "data": {
            "text/plain": [
              "<Figure size 432x288 with 1 Axes>"
            ],
            "image/png": "[encoded data removed]"
          },
          "metadata": {
            "needs_background": "light"
          }
        }
      ]
    },
    {
      "cell_type": "code",
      "source": [
        "tabuleiro_ = knight_moves(tabuleiro)\n",
        "get_plot(tabuleiro/2 + tabuleiro_)"
      ],
      "metadata": {
        "colab": {
          "base_uri": "https://localhost:8080/",
          "height": 265
        },
        "id": "dkh-7GwLrFBb",
        "outputId": "1275e3bf-cdd2-44a9-9254-fa3e8e016976"
      },
      "execution_count": null,
      "outputs": [
        {
          "output_type": "display_data",
          "data": {
            "text/plain": [
              "<Figure size 432x288 with 1 Axes>"
            ],
            "image/png": "[encoded data removed]"
          },
          "metadata": {
            "needs_background": "light"
          }
        }
      ]
    },
    {
      "cell_type": "markdown",
      "source": [
        "# Nova seção"
      ],
      "metadata": {
        "id": "Y5sugvgJa7S4"
      }
    },
    {
      "cell_type": "markdown",
      "source": [
        "# Nova seção"
      ],
      "metadata": {
        "id": "HVfipbdWa73a"
      }
    },
    {
      "cell_type": "code",
      "source": [
        "get_pieces_positions(tabuleiro)[0]"
      ],
      "metadata": {
        "colab": {
          "base_uri": "https://localhost:8080/"
        },
        "id": "oVWf9Swirr-y",
        "outputId": "76bbe2a8-8faa-4ab7-811f-fdaf5cddf623"
      },
      "execution_count": null,
      "outputs": [
        {
          "output_type": "execute_result",
          "data": {
            "text/plain": [
              "(2, 1)"
            ]
          },
          "metadata": {},
          "execution_count": 27
        }
      ]
    },
    {
      "cell_type": "code",
      "source": [
        "possible_moves = {0: (2,1), 1: (1,2),2: (-2,1), 3: (-1,2), 4: (2,-1), 5: (1,-2),6: (-2,-1), 7: (-1,-2)}\n",
        "a = possible_moves[np.random.choice(range(8))]\n",
        "b = get_pieces_positions(tabuleiro)[0]"
      ],
      "metadata": {
        "id": "k_AnlgyjvRL9"
      },
      "execution_count": null,
      "outputs": []
    },
    {
      "cell_type": "code",
      "source": [
        "fig = plt.figure()\n",
        "camera = Camera(fig)\n",
        "for i in range(10):\n",
        "  plt.plot([i] * 10)\n",
        "  camera.snap()\n",
        "  animation = camera.animate()"
      ],
      "metadata": {
        "colab": {
          "base_uri": "https://localhost:8080/",
          "height": 265
        },
        "id": "fpvd5jTiu4lV",
        "outputId": "10634999-7671-4429-cde8-8f186e41ff9f"
      },
      "execution_count": null,
      "outputs": [
        {
          "output_type": "display_data",
          "data": {
            "text/plain": [
              "<Figure size 432x288 with 1 Axes>"
            ],
            "image/png": "[encoded data removed]"
          },
          "metadata": {
            "needs_background": "light"
          }
        }
      ]
    },
    {
      "cell_type": "code",
      "source": [],
      "metadata": {
        "id": "wfhLSI1r4DJJ"
      },
      "execution_count": null,
      "outputs": []
    }
  ]
}